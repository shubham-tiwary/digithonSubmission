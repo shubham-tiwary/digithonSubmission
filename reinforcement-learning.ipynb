{
 "cells": [
  {
   "cell_type": "code",
   "id": "initial_id",
   "metadata": {
    "collapsed": true,
    "ExecuteTime": {
     "end_time": "2024-09-25T08:32:01.644492Z",
     "start_time": "2024-09-25T08:31:59.986495Z"
    }
   },
   "source": [
    "import pandas as pd\n",
    "import numpy as np\n",
    "import random\n",
    "from collections import defaultdict\n"
   ],
   "outputs": [],
   "execution_count": 2
  },
  {
   "metadata": {
    "ExecuteTime": {
     "end_time": "2024-09-25T08:33:41.660823Z",
     "start_time": "2024-09-25T08:33:41.286554Z"
    }
   },
   "cell_type": "code",
   "source": [
    "# Load the dataset\n",
    "df = pd.read_csv('shipment-data.csv')\n",
    "\n",
    "# Convert date fields to datetime\n",
    "df['ShipmentDateTime'] = pd.to_datetime(df['ShipmentDateTime'])\n",
    "df['RequiredDeliveryDateTime'] = pd.to_datetime(df['RequiredDeliveryDateTime'])\n",
    "\n",
    "# Calculate shipment volume from dimensions\n",
    "def calculate_volume(dimensions):\n",
    "    dims = dimensions.split('x')\n",
    "    return float(dims[0]) * float(dims[1]) * float(dims[2])  # in cubic centimeters\n",
    "\n",
    "df['ShipmentVolume_cm3'] = df['ShipmentDimensions_cm'].apply(calculate_volume)\n",
    "\n",
    "# Simplify the dataset for RL\n",
    "rl_data = df[['ShipmentID', 'ShipmentWeight_kg', 'ShipmentVolume_cm3', 'ServiceLevel',\n",
    "              'CustomerPriorityLevel', 'RequiredDeliveryDateTime', 'ShipmentDateTime',\n",
    "              'RevenuePerShipment_USD', 'CostPerShipment_USD', 'TransportationMode']].copy()\n",
    "\n",
    "# Map categorical variables to numeric\n",
    "priority_mapping = {'Platinum': 3, 'Gold': 2, 'Silver': 1}\n",
    "service_level_mapping = {'IP': 1, 'IE': 0}\n",
    "\n",
    "rl_data['CustomerPriorityLevel'] = rl_data['CustomerPriorityLevel'].map(priority_mapping)\n",
    "rl_data['ServiceLevel'] = rl_data['ServiceLevel'].map(service_level_mapping)\n",
    "\n",
    "# Add delivery time window in hours\n",
    "rl_data['DeliveryTimeWindow_hours'] = (rl_data['RequiredDeliveryDateTime'] - rl_data['ShipmentDateTime']).dt.total_seconds() / 3600\n"
   ],
   "id": "1194e08c01ba6c91",
   "outputs": [],
   "execution_count": 3
  },
  {
   "metadata": {
    "ExecuteTime": {
     "end_time": "2024-09-25T08:34:02.426747Z",
     "start_time": "2024-09-25T08:34:02.422267Z"
    }
   },
   "cell_type": "code",
   "source": [
    "# Define transportation modes\n",
    "transportation_modes = ['Purple Tail', 'TNT Network', 'Commercial Airlines']\n",
    "\n",
    "# Initialize capacities and load factors (simplified for demonstration)\n",
    "capacities = {\n",
    "    'Purple Tail': 100000,  # in kg\n",
    "    'TNT Network': 80000,\n",
    "    'Commercial Airlines': 120000\n",
    "}\n",
    "\n",
    "current_load = {\n",
    "    'Purple Tail': 0,\n",
    "    'TNT Network': 0,\n",
    "    'Commercial Airlines': 0\n",
    "}\n",
    "\n",
    "# Delivery times for transportation modes (in hours)\n",
    "transit_times = {\n",
    "    'Purple Tail': 72,  # 3 days\n",
    "    'TNT Network': 96,  # 4 days\n",
    "    'Commercial Airlines': 48  # 2 days\n",
    "}\n"
   ],
   "id": "fa11335a6ade9bd2",
   "outputs": [],
   "execution_count": 4
  },
  {
   "metadata": {
    "ExecuteTime": {
     "end_time": "2024-09-25T08:34:14.691268Z",
     "start_time": "2024-09-25T08:34:14.684435Z"
    }
   },
   "cell_type": "code",
   "source": [
    "# Possible states (for simplicity, we discretize continuous variables)\n",
    "priority_levels = [1, 2, 3]  # Silver, Gold, Platinum\n",
    "service_levels = [0, 1]  # IE, IP\n",
    "\n",
    "# Initialize Q-table\n",
    "Q_table = defaultdict(lambda: np.zeros(len(transportation_modes)))\n"
   ],
   "id": "ea4c9b5e6dd3df70",
   "outputs": [],
   "execution_count": 5
  },
  {
   "metadata": {
    "ExecuteTime": {
     "end_time": "2024-09-25T08:34:24.457399Z",
     "start_time": "2024-09-25T08:34:24.452300Z"
    }
   },
   "cell_type": "code",
   "source": [
    "# Hyperparameters\n",
    "alpha = 0.1       # Learning rate\n",
    "gamma = 0.9       # Discount factor\n",
    "epsilon = 0.1     # Exploration rate\n",
    "num_episodes = 1000\n"
   ],
   "id": "f3a39d82151055ef",
   "outputs": [],
   "execution_count": 6
  },
  {
   "metadata": {
    "ExecuteTime": {
     "end_time": "2024-09-25T08:34:35.732574Z",
     "start_time": "2024-09-25T08:34:33.443350Z"
    }
   },
   "cell_type": "code",
   "source": [
    "# Training\n",
    "for episode in range(num_episodes):\n",
    "    # Shuffle the data for each episode\n",
    "    rl_data = rl_data.sample(frac=1).reset_index(drop=True)\n",
    "    \n",
    "    # Reset capacities for each episode\n",
    "    current_load = {mode: 0 for mode in transportation_modes}\n",
    "    \n",
    "    for index, row in rl_data.iterrows():\n",
    "        # Define state\n",
    "        state = (row['CustomerPriorityLevel'], row['ServiceLevel'])\n",
    "        \n",
    "        # Choose action (transportation mode)\n",
    "        if random.uniform(0, 1) < epsilon:\n",
    "            # Explore\n",
    "            action_index = random.randint(0, len(transportation_modes) - 1)\n",
    "        else:\n",
    "            # Exploit\n",
    "            state_values = Q_table[state]\n",
    "            action_index = np.argmax(state_values)\n",
    "        \n",
    "        action = transportation_modes[action_index]\n",
    "        \n",
    "        # Calculate reward\n",
    "        reward = 0\n",
    "        cost = row['CostPerShipment_USD']\n",
    "        revenue = row['RevenuePerShipment_USD']\n",
    "        profit = revenue - cost\n",
    "        \n",
    "        # Check capacity constraint\n",
    "        if current_load[action] + row['ShipmentWeight_kg'] <= capacities[action]:\n",
    "            current_load[action] += row['ShipmentWeight_kg']\n",
    "        else:\n",
    "            # Capacity exceeded, apply penalty\n",
    "            reward -= 1000  # Penalty for exceeding capacity\n",
    "            profit = 0  # No profit if shipment can't be allocated\n",
    "            current_load[action] = capacities[action]  # Set to max capacity\n",
    "        \n",
    "        # Check delivery time constraint\n",
    "        if transit_times[action] > row['DeliveryTimeWindow_hours']:\n",
    "            # Delivery will be late, apply penalty\n",
    "            reward -= 500  # Penalty for late delivery\n",
    "            profit = 0  # Assume customer will not pay if delivery is late\n",
    "        \n",
    "        # Reward is the profit minus any penalties\n",
    "        reward += profit\n",
    "        \n",
    "        # Update Q-table\n",
    "        next_state = state  # In this case, the state does not change\n",
    "        best_next_action = np.argmax(Q_table[next_state])\n",
    "        td_target = reward + gamma * Q_table[next_state][best_next_action]\n",
    "        td_delta = td_target - Q_table[state][action_index]\n",
    "        Q_table[state][action_index] += alpha * td_delta\n"
   ],
   "id": "c0ecb314c31c851d",
   "outputs": [],
   "execution_count": 7
  },
  {
   "metadata": {
    "ExecuteTime": {
     "end_time": "2024-09-25T08:34:48.223116Z",
     "start_time": "2024-09-25T08:34:48.217520Z"
    }
   },
   "cell_type": "code",
   "source": [
    "# Extract the optimal policy from the Q-table\n",
    "policy = {}\n",
    "for state in Q_table:\n",
    "    best_action_index = np.argmax(Q_table[state])\n",
    "    best_action = transportation_modes[best_action_index]\n",
    "    policy[state] = best_action\n"
   ],
   "id": "51369b7e7b4185ea",
   "outputs": [],
   "execution_count": 8
  },
  {
   "metadata": {
    "ExecuteTime": {
     "end_time": "2024-09-25T08:34:56.409917Z",
     "start_time": "2024-09-25T08:34:56.399085Z"
    }
   },
   "cell_type": "code",
   "source": [
    "print(\"Optimal Policy Derived from Q-Learning:\")\n",
    "for state, action in policy.items():\n",
    "    priority_level = {v: k for k, v in priority_mapping.items()}[state[0]]\n",
    "    service_level = {v: k for k, v in service_level_mapping.items()}[state[1]]\n",
    "    print(f\"Customer Priority Level: {priority_level}, Service Level: {service_level} --> Assign to: {action}\")\n"
   ],
   "id": "338dd3d2e719a272",
   "outputs": [
    {
     "name": "stdout",
     "output_type": "stream",
     "text": [
      "Optimal Policy Derived from Q-Learning:\n",
      "Customer Priority Level: Gold, Service Level: IE --> Assign to: Purple Tail\n",
      "Customer Priority Level: Platinum, Service Level: IE --> Assign to: Purple Tail\n",
      "Customer Priority Level: Platinum, Service Level: IP --> Assign to: Purple Tail\n",
      "Customer Priority Level: Silver, Service Level: IP --> Assign to: Commercial Airlines\n",
      "Customer Priority Level: Gold, Service Level: IP --> Assign to: Purple Tail\n",
      "Customer Priority Level: Silver, Service Level: IE --> Assign to: Purple Tail\n"
     ]
    }
   ],
   "execution_count": 9
  },
  {
   "metadata": {
    "ExecuteTime": {
     "end_time": "2024-09-25T08:35:09.934923Z",
     "start_time": "2024-09-25T08:35:09.925108Z"
    }
   },
   "cell_type": "code",
   "source": [
    "# Reset capacities\n",
    "current_load = {mode: 0 for mode in transportation_modes}\n",
    "total_profit = 0\n",
    "penalties = 0\n",
    "\n",
    "for index, row in rl_data.iterrows():\n",
    "    # Define state\n",
    "    state = (row['CustomerPriorityLevel'], row['ServiceLevel'])\n",
    "    action = policy.get(state, transportation_modes[0])  # Default to first mode if state not in policy\n",
    "    \n",
    "    cost = row['CostPerShipment_USD']\n",
    "    revenue = row['RevenuePerShipment_USD']\n",
    "    profit = revenue - cost\n",
    "    \n",
    "    # Check capacity constraint\n",
    "    if current_load[action] + row['ShipmentWeight_kg'] <= capacities[action]:\n",
    "        current_load[action] += row['ShipmentWeight_kg']\n",
    "    else:\n",
    "        # Capacity exceeded, apply penalty\n",
    "        penalties += 1000\n",
    "        profit = 0  # No profit if shipment can't be allocated\n",
    "        current_load[action] = capacities[action]\n",
    "    \n",
    "    # Check delivery time constraint\n",
    "    if transit_times[action] > row['DeliveryTimeWindow_hours']:\n",
    "        # Delivery will be late, apply penalty\n",
    "        penalties += 500\n",
    "        profit = 0  # Assume customer will not pay if delivery is late\n",
    "    \n",
    "    total_profit += profit\n",
    "\n",
    "print(f\"Total Profit: USD {total_profit}\")\n",
    "print(f\"Total Penalties: USD {penalties}\")\n",
    "print(f\"Net Profit: USD {total_profit - penalties}\")\n"
   ],
   "id": "f90de1ad117025e0",
   "outputs": [
    {
     "name": "stdout",
     "output_type": "stream",
     "text": [
      "Total Profit: USD 4300\n",
      "Total Penalties: USD 0\n",
      "Net Profit: USD 4300\n"
     ]
    }
   ],
   "execution_count": 10
  }
 ],
 "metadata": {
  "kernelspec": {
   "display_name": "Python 3",
   "language": "python",
   "name": "python3"
  },
  "language_info": {
   "codemirror_mode": {
    "name": "ipython",
    "version": 2
   },
   "file_extension": ".py",
   "mimetype": "text/x-python",
   "name": "python",
   "nbconvert_exporter": "python",
   "pygments_lexer": "ipython2",
   "version": "2.7.6"
  }
 },
 "nbformat": 4,
 "nbformat_minor": 5
}
